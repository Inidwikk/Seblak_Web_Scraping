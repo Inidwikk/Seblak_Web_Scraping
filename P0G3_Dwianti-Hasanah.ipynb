{
 "cells": [
  {
   "cell_type": "markdown",
   "metadata": {},
   "source": [
    "### Perkenalan"
   ]
  },
  {
   "cell_type": "markdown",
   "metadata": {},
   "source": [
    "=================================================\n",
    "\n",
    "Graded Challenge 3\n",
    "\n",
    "Nama  : Dwianti Hasanah\n",
    "\n",
    "Batch : BSD-01\n",
    "\n",
    "\n",
    "Assignment Graded Challenge ini dibuat untuk mengevaluasi hasil pembelajaran dalam minggu sebelumnya.\n",
    "Adapun materi pembelajarannya adalah sebagai berikut.\n",
    "  - Web Scraping\n",
    "  - API\n",
    "  - Business Knowledge\n",
    "  - Statistic Descriptive\n",
    "  - Statistic Inferential\n",
    "\n",
    "Adapun konsep yang harus kita evaluasi dalam graded challege ini adalah sebagi berikut:\n",
    "  - pengambilan data dari internet dengan web scraping\n",
    "  - melakukan data preparation sebelum menlanjutkan analysis\n",
    "  - membuat problem statement dengan menggunakan framework SMART\n",
    "  - melakukan perhitungan Statistic Descriptive\n",
    "  - pengujian statistik dan merumuskan hipotesis\n",
    "  - membuat isight ari hasil perhitungan\n",
    "  - membuat kesimpulan dalam menjawab problem statement\n",
    "  \n",
    "##### Dengan Kata lain mampu menerapkan dan mengoperasikan web scraping, data preparation, business understanding dengan menggunakan framework SMART, dan melakukan perhitungan statistik deskriptip\n",
    "=================================================="
   ]
  },
  {
   "cell_type": "markdown",
   "metadata": {},
   "source": [
    "### Case"
   ]
  },
  {
   "cell_type": "markdown",
   "metadata": {},
   "source": [
    "### A. Web Scraping"
   ]
  },
  {
   "cell_type": "markdown",
   "metadata": {},
   "source": [
    "Saya sekarang kekurangan uang. Untuk menambah penghasilan selain berkerja kantoran, saya memiliki ide untuk berjualan. Namun saya tidak memiliki cukup modal untuk memproduksi barang, uang yang saya miliki hanya cukup untuk melakukan promosi. \n",
    "\n",
    "Setelah melakukan browsing diinternet dan bertanya ke beberapa teman, sayang menemukan solusinya yaitu dengan melakukan dropshiper di platform Tokopedia. Saat saya masih bingung tentang produk apa yang ingin saya jual, saya teringat tentang yang sedang viral diakhir akhir ini. yaitu seblak, tapi saya tidak tau apakah orang orang memiliki animo yang besar terhadap seblak.\n",
    "\n",
    "Dengan kemampuan yang saya miliki dari mengikuti bootcamp Data Science Hacktiv8 saya bisa menganalisis informasi tentang penjualan seblak di Tokopedia.\n",
    "\n",
    "Tetapi dikarenakan saya tidak memiliki data untuk mengalisis saya harus melakukan Webscraping terlebih dahulu untuk mengambil data dan melakukan analisis."
   ]
  },
  {
   "cell_type": "markdown",
   "metadata": {},
   "source": [
    "  1. Melakukan pengambilan data dari website e-commerce Tokopedia\n",
    "  2. Ambil data dengan `nama produk`, `harga produk`, lalu `lokasi toko`,`penjual`, `total terjual` dan `rating produk`.\n",
    "  3. Ada skema promosi dalam website Tokopedia di panel teratas (produk yang membayar iklan). Ambillah produk yang regular saja dengan elemen `<div class=\"css-974ipl\">`\n",
    "    \n",
    "  Catatan: Untuk produk baru yang tidak memiliki total terjual dan rating produk hasil akhir akan berbeda jumlah data yang diperoleh (otomatis tidak ada informasi). Atasilah masalah ini dengan menghandle data agar pandas bisa mendeteksi sebagai missing value.\n",
    "\n",
    "  (Elemen telah disediakan, lakukan cek kebenaran elemen terlebih dahulu sebelum digunakan)\n",
    "\n",
    "  4. Ambilah minimal 10 halaman pencarian informasi produk\n",
    "  5. Setiap murid harus memiliki minimal 50 data dari 10 halaman yang diakses (setiap murid memiliki data yang berbeda)\n",
    "  6. simpan hasil dari scrape data ke pandas DataFrame, lalu lakukan pengolahan data. (dibebaskan penamaan column)"
   ]
  },
  {
   "cell_type": "markdown",
   "metadata": {},
   "source": [
    "Langkah pertama sebelum memulai scraping, pertama-tama dengan melakukan Import Library. Disini Saya menggunakan Selenium, beautifulsoup dan jtidak lupa pandas"
   ]
  },
  {
   "cell_type": "code",
   "execution_count": 89,
   "metadata": {},
   "outputs": [],
   "source": [
    "# import library\n",
    "from scipy import stats\n",
    "import numpy as np\n",
    "import seaborn as sns\n",
    "from selenium import webdriver\n",
    "from bs4 import BeautifulSoup\n",
    "import requests\n",
    "import time\n",
    "import pandas as pd"
   ]
  },
  {
   "cell_type": "markdown",
   "metadata": {},
   "source": [
    "Setelah melakukan Import library kita bisa mulai pengambilan data ke platform tokopedia dan mencari kata kunci `seblak` dengan cara sebagai berikut"
   ]
  },
  {
   "cell_type": "code",
   "execution_count": 90,
   "metadata": {},
   "outputs": [
    {
     "name": "stdout",
     "output_type": "stream",
     "text": [
      "<html data-rh=\"lang,translate\" lang=\"id\" translate=\"no\">\n",
      " <head>\n",
      "  <title>\n",
      "   Jual seblak | Tokopedia\n",
      "  </title>\n",
      "  <meta charset=\"utf-8\"/>\n",
      "  <meta content=\"initial-scale=1, minimum-scale=1, maximum-scale=5, user-scalable=yes, width=device-width\" name=\"viewport\"/>\n",
      "  <link crossorigin=\"\" href=\"https://assets.tokopedia.net\" rel=\"preconnect\"/>\n",
      "  <link href=\"https://assets.tokopedia.net\" nonce=\"\" rel=\"dns-prefetch\"/>\n",
      "  <link crossorigin=\"\" href=\"https://gql.tokopedia.com\" rel=\"preconnect\"/>\n",
      "  <link href=\"https://gql.tokopedia.com\" nonce=\"\" rel=\"dns-prefetch\"/>\n",
      "  <link crossorigin=\"\" href=\"https://googleads.g.doubleclick.net\" rel=\"preconnect\"/>\n",
      "  <link href=\"https://googleads.g.doubleclick.net\" no\n"
     ]
    }
   ],
   "source": [
    "driver = webdriver.Chrome() # .Chorme dikarenakan menggunakan browser Chrome. bisa diubah dengan menyesuaikan browser yang digunakan\n",
    "url=\"https://www.tokopedia.com/search?navsource=&q=seblak&srp_component_id=02.01.00.00&srp_page_id=&srp_page_title=&st=\"\n",
    "driver.get(url)\n",
    "html = driver.page_source\n",
    "\n",
    "soup = BeautifulSoup(html, \"html.parser\")\n",
    "print(soup.prettify()[:700])"
   ]
  },
  {
   "cell_type": "markdown",
   "metadata": {},
   "source": [
    "Pengambilan data untuk nama produk, harga, penjual, lokasi toko, total terjualnya produk, dan rating dari produk.\n",
    "\n",
    "Data yang diambil hanya produk yang regular ( produk yang berbayang tidak diambil)\n",
    "\n",
    "Data diambil dari 10 halaman pencarian dengan dibatasi 25 data perhalaman. karena jika kita mengambil seluruh data dari satu halaman data akan lama dan terlalu banyak. maka dari itu saya membatasi hanya 25 data dari satu halaman dengan total 10 halaman\n",
    "\n",
    "Setelah pengambilan data, Saya lengsung menyimpan hasil data ke pandas DataFramework untuk diolah kembali"
   ]
  },
  {
   "cell_type": "code",
   "execution_count": 292,
   "metadata": {},
   "outputs": [
    {
     "data": {
      "text/html": [
       "<div>\n",
       "<style scoped>\n",
       "    .dataframe tbody tr th:only-of-type {\n",
       "        vertical-align: middle;\n",
       "    }\n",
       "\n",
       "    .dataframe tbody tr th {\n",
       "        vertical-align: top;\n",
       "    }\n",
       "\n",
       "    .dataframe thead th {\n",
       "        text-align: right;\n",
       "    }\n",
       "</style>\n",
       "<table border=\"1\" class=\"dataframe\">\n",
       "  <thead>\n",
       "    <tr style=\"text-align: right;\">\n",
       "      <th></th>\n",
       "      <th>Nama Produk</th>\n",
       "      <th>Harga</th>\n",
       "      <th>Penjual</th>\n",
       "      <th>Lokasi</th>\n",
       "      <th>Terjual</th>\n",
       "      <th>Rating</th>\n",
       "    </tr>\n",
       "  </thead>\n",
       "  <tbody>\n",
       "    <tr>\n",
       "      <th>0</th>\n",
       "      <td>Seblak Instan Ceu Nthien Khas Bandung Rasana N...</td>\n",
       "      <td>Rp15.000</td>\n",
       "      <td>Central Seblak Nusantara</td>\n",
       "      <td>Tangerang Selatan</td>\n",
       "      <td>Terjual 1 rb+</td>\n",
       "      <td>4.9</td>\n",
       "    </tr>\n",
       "    <tr>\n",
       "      <th>1</th>\n",
       "      <td>seblak instan jeletot jajanan hits bandung 1 p...</td>\n",
       "      <td>Rp4.180</td>\n",
       "      <td>tokomakanankalimantan</td>\n",
       "      <td>Jakarta Barat</td>\n",
       "      <td>Terjual 1 rb+</td>\n",
       "      <td>4.8</td>\n",
       "    </tr>\n",
       "    <tr>\n",
       "      <th>2</th>\n",
       "      <td>Parade DiskonKylafood Seblak Original PlayRp14...</td>\n",
       "      <td>Rp14.350</td>\n",
       "      <td>kylafood</td>\n",
       "      <td>Bandung</td>\n",
       "      <td>Terjual 750+</td>\n",
       "      <td>5.0</td>\n",
       "    </tr>\n",
       "    <tr>\n",
       "      <th>3</th>\n",
       "      <td>seblak basreng pedas original exstra daun jeru...</td>\n",
       "      <td>Rp25.000</td>\n",
       "      <td>seblak bandung99</td>\n",
       "      <td>Kab. Bandung</td>\n",
       "      <td>Terjual 2 rb+</td>\n",
       "      <td>4.8</td>\n",
       "    </tr>\n",
       "    <tr>\n",
       "      <th>4</th>\n",
       "      <td>Termurah Kerupuk Mentah-Kerupuk Seblak-Kerupuk...</td>\n",
       "      <td>Rp6.000</td>\n",
       "      <td>Djuragan Kerupuk</td>\n",
       "      <td>Surabaya</td>\n",
       "      <td>Terjual 50+</td>\n",
       "      <td>5.0</td>\n",
       "    </tr>\n",
       "    <tr>\n",
       "      <th>...</th>\n",
       "      <td>...</td>\n",
       "      <td>...</td>\n",
       "      <td>...</td>\n",
       "      <td>...</td>\n",
       "      <td>...</td>\n",
       "      <td>...</td>\n",
       "    </tr>\n",
       "    <tr>\n",
       "      <th>245</th>\n",
       "      <td>Tokopedia NYAM!SEBLAK INSTANT TERMURAHRp3.999J...</td>\n",
       "      <td>Rp3.999</td>\n",
       "      <td>Pusat Cuankie &amp; Cemilan Frozen</td>\n",
       "      <td>Jakarta Timur</td>\n",
       "      <td>Terjual 10 rb+</td>\n",
       "      <td>4.8</td>\n",
       "    </tr>\n",
       "    <tr>\n",
       "      <th>246</th>\n",
       "      <td>Tokopedia NYAM!Seblak Instan Pedas Home MadeRp...</td>\n",
       "      <td>Rp3.500</td>\n",
       "      <td>the Dhecip</td>\n",
       "      <td>Tangerang Selatan</td>\n",
       "      <td>Terjual 1 rb+</td>\n",
       "      <td>4.8</td>\n",
       "    </tr>\n",
       "    <tr>\n",
       "      <th>247</th>\n",
       "      <td>Seblak instan yoi enak dan kenyangRp7.500Bekas...</td>\n",
       "      <td>Rp7.500</td>\n",
       "      <td>SeblakYoi</td>\n",
       "      <td>Bekasi</td>\n",
       "      <td>Terjual 250+</td>\n",
       "      <td>4.9</td>\n",
       "    </tr>\n",
       "    <tr>\n",
       "      <th>248</th>\n",
       "      <td>Tokopedia NYAM!Seblak Instan Komplit Pedas Gur...</td>\n",
       "      <td>Rp5.999</td>\n",
       "      <td>Baso Aci Ayang</td>\n",
       "      <td>Kab. Garut</td>\n",
       "      <td>Terjual 2 rb+</td>\n",
       "      <td>4.9</td>\n",
       "    </tr>\n",
       "    <tr>\n",
       "      <th>249</th>\n",
       "      <td>SEBLAK INSTAN MAMANG TERMURAHRp4.200Jakarta Ba...</td>\n",
       "      <td>Rp4.200</td>\n",
       "      <td>global cookware1</td>\n",
       "      <td>Jakarta Barat</td>\n",
       "      <td>Terjual 80+</td>\n",
       "      <td>5.0</td>\n",
       "    </tr>\n",
       "  </tbody>\n",
       "</table>\n",
       "<p>250 rows × 6 columns</p>\n",
       "</div>"
      ],
      "text/plain": [
       "                                           Nama Produk     Harga  \\\n",
       "0    Seblak Instan Ceu Nthien Khas Bandung Rasana N...  Rp15.000   \n",
       "1    seblak instan jeletot jajanan hits bandung 1 p...   Rp4.180   \n",
       "2    Parade DiskonKylafood Seblak Original PlayRp14...  Rp14.350   \n",
       "3    seblak basreng pedas original exstra daun jeru...  Rp25.000   \n",
       "4    Termurah Kerupuk Mentah-Kerupuk Seblak-Kerupuk...   Rp6.000   \n",
       "..                                                 ...       ...   \n",
       "245  Tokopedia NYAM!SEBLAK INSTANT TERMURAHRp3.999J...   Rp3.999   \n",
       "246  Tokopedia NYAM!Seblak Instan Pedas Home MadeRp...   Rp3.500   \n",
       "247  Seblak instan yoi enak dan kenyangRp7.500Bekas...   Rp7.500   \n",
       "248  Tokopedia NYAM!Seblak Instan Komplit Pedas Gur...   Rp5.999   \n",
       "249  SEBLAK INSTAN MAMANG TERMURAHRp4.200Jakarta Ba...   Rp4.200   \n",
       "\n",
       "                            Penjual             Lokasi         Terjual Rating  \n",
       "0          Central Seblak Nusantara  Tangerang Selatan   Terjual 1 rb+    4.9  \n",
       "1             tokomakanankalimantan      Jakarta Barat   Terjual 1 rb+    4.8  \n",
       "2                          kylafood            Bandung    Terjual 750+    5.0  \n",
       "3                  seblak bandung99       Kab. Bandung   Terjual 2 rb+    4.8  \n",
       "4                  Djuragan Kerupuk           Surabaya     Terjual 50+    5.0  \n",
       "..                              ...                ...             ...    ...  \n",
       "245  Pusat Cuankie & Cemilan Frozen      Jakarta Timur  Terjual 10 rb+    4.8  \n",
       "246                      the Dhecip  Tangerang Selatan   Terjual 1 rb+    4.8  \n",
       "247                       SeblakYoi             Bekasi    Terjual 250+    4.9  \n",
       "248                  Baso Aci Ayang         Kab. Garut   Terjual 2 rb+    4.9  \n",
       "249                global cookware1      Jakarta Barat     Terjual 80+    5.0  \n",
       "\n",
       "[250 rows x 6 columns]"
      ]
     },
     "execution_count": 292,
     "metadata": {},
     "output_type": "execute_result"
    }
   ],
   "source": [
    "Data = []\n",
    "\n",
    "driver = webdriver.Chrome()\n",
    "for i in range(1,11): # range(1,11) untuk mengakses 10 page \n",
    "    Tokped=\"https://www.tokopedia.com/search?navsource=&page={}&q=seblak&srp_component_id=02.01.00.00&srp_page_id=&srp_page_title=&st=%22\".format(i)\n",
    "\n",
    "    driver.get(Tokped) \n",
    "    time.sleep(3) \n",
    "    html = driver.page_source \n",
    "    soup = BeautifulSoup(html, \"html.parser\") \n",
    "\n",
    "    for it in soup.findAll('div', class_=\"css-uwyh54\")[:25]: # [:25] pengambilan berapa banyak dat adalam satu halaman\n",
    "        nama  = it.find('div', class_=\"css-974ipl\").get_text()\n",
    "        harga = it.find('div', class_=\"css-1ksb19c\").get_text()\n",
    "        for it2 in it.findAll('div', class_=\"css-1rn0irl\"):\n",
    "            penjual = it2.findAll('span', class_=\"css-1kdc32b\")[1].get_text()\n",
    "            lokasi  = it2.findAll('span', class_=\"css-1kdc32b\")[0].get_text()\n",
    "\n",
    "        trjual = it.findAll('span', class_=\"css-1duhs3e\")\n",
    "        if len(trjual)>0:\n",
    "            terjual = it.find('span', class_=\"css-1duhs3e\").get_text()\n",
    "        else:\n",
    "            terjual = None\n",
    "        rtng = it.findAll('span', class_=\"css-t70v7i\")\n",
    "        try:\n",
    "            rating = it.find('span', class_=\"css-t70v7i\").get_text()\n",
    "        except:\n",
    "            rating = None\n",
    "      \n",
    "\n",
    "        # Menyimpan hasil scrape ke pandas DataFrame\n",
    "        Data.append(\n",
    "                (nama, harga, penjual, lokasi, terjual, rating)\n",
    "                )\n",
    "#membuat column dengan hasil data dari scraping\n",
    "df=pd.DataFrame(Data, columns=['Nama Produk', 'Harga', 'Penjual', 'Lokasi', 'Terjual', 'Rating'])\n",
    "\n",
    "df"
   ]
  },
  {
   "cell_type": "markdown",
   "metadata": {},
   "source": [
    "Disini saya menyimpan data ke dalam format CSV agar data tidak repot jika sewaktu adanya error saat menjalankan data"
   ]
  },
  {
   "cell_type": "code",
   "execution_count": 300,
   "metadata": {},
   "outputs": [
    {
     "data": {
      "text/html": [
       "<div>\n",
       "<style scoped>\n",
       "    .dataframe tbody tr th:only-of-type {\n",
       "        vertical-align: middle;\n",
       "    }\n",
       "\n",
       "    .dataframe tbody tr th {\n",
       "        vertical-align: top;\n",
       "    }\n",
       "\n",
       "    .dataframe thead th {\n",
       "        text-align: right;\n",
       "    }\n",
       "</style>\n",
       "<table border=\"1\" class=\"dataframe\">\n",
       "  <thead>\n",
       "    <tr style=\"text-align: right;\">\n",
       "      <th></th>\n",
       "      <th>Nama Produk</th>\n",
       "      <th>Harga</th>\n",
       "      <th>Penjual</th>\n",
       "      <th>Lokasi</th>\n",
       "      <th>Terjual</th>\n",
       "      <th>Rating</th>\n",
       "    </tr>\n",
       "  </thead>\n",
       "  <tbody>\n",
       "    <tr>\n",
       "      <th>0</th>\n",
       "      <td>Seblak Instan Ceu Nthien Khas Bandung Rasana N...</td>\n",
       "      <td>Rp15.000</td>\n",
       "      <td>Central Seblak Nusantara</td>\n",
       "      <td>Tangerang Selatan</td>\n",
       "      <td>Terjual 1 rb+</td>\n",
       "      <td>4.9</td>\n",
       "    </tr>\n",
       "    <tr>\n",
       "      <th>1</th>\n",
       "      <td>seblak instan jeletot jajanan hits bandung 1 p...</td>\n",
       "      <td>Rp4.180</td>\n",
       "      <td>tokomakanankalimantan</td>\n",
       "      <td>Jakarta Barat</td>\n",
       "      <td>Terjual 1 rb+</td>\n",
       "      <td>4.8</td>\n",
       "    </tr>\n",
       "    <tr>\n",
       "      <th>2</th>\n",
       "      <td>Parade DiskonKylafood Seblak Original PlayRp14...</td>\n",
       "      <td>Rp14.350</td>\n",
       "      <td>kylafood</td>\n",
       "      <td>Bandung</td>\n",
       "      <td>Terjual 750+</td>\n",
       "      <td>5.0</td>\n",
       "    </tr>\n",
       "    <tr>\n",
       "      <th>3</th>\n",
       "      <td>seblak basreng pedas original exstra daun jeru...</td>\n",
       "      <td>Rp25.000</td>\n",
       "      <td>seblak bandung99</td>\n",
       "      <td>Kab. Bandung</td>\n",
       "      <td>Terjual 2 rb+</td>\n",
       "      <td>4.8</td>\n",
       "    </tr>\n",
       "    <tr>\n",
       "      <th>4</th>\n",
       "      <td>Termurah Kerupuk Mentah-Kerupuk Seblak-Kerupuk...</td>\n",
       "      <td>Rp6.000</td>\n",
       "      <td>Djuragan Kerupuk</td>\n",
       "      <td>Surabaya</td>\n",
       "      <td>Terjual 50+</td>\n",
       "      <td>5.0</td>\n",
       "    </tr>\n",
       "    <tr>\n",
       "      <th>...</th>\n",
       "      <td>...</td>\n",
       "      <td>...</td>\n",
       "      <td>...</td>\n",
       "      <td>...</td>\n",
       "      <td>...</td>\n",
       "      <td>...</td>\n",
       "    </tr>\n",
       "    <tr>\n",
       "      <th>245</th>\n",
       "      <td>Tokopedia NYAM!SEBLAK INSTANT TERMURAHRp3.999J...</td>\n",
       "      <td>Rp3.999</td>\n",
       "      <td>Pusat Cuankie &amp; Cemilan Frozen</td>\n",
       "      <td>Jakarta Timur</td>\n",
       "      <td>Terjual 10 rb+</td>\n",
       "      <td>4.8</td>\n",
       "    </tr>\n",
       "    <tr>\n",
       "      <th>246</th>\n",
       "      <td>Tokopedia NYAM!Seblak Instan Pedas Home MadeRp...</td>\n",
       "      <td>Rp3.500</td>\n",
       "      <td>the Dhecip</td>\n",
       "      <td>Tangerang Selatan</td>\n",
       "      <td>Terjual 1 rb+</td>\n",
       "      <td>4.8</td>\n",
       "    </tr>\n",
       "    <tr>\n",
       "      <th>247</th>\n",
       "      <td>Seblak instan yoi enak dan kenyangRp7.500Bekas...</td>\n",
       "      <td>Rp7.500</td>\n",
       "      <td>SeblakYoi</td>\n",
       "      <td>Bekasi</td>\n",
       "      <td>Terjual 250+</td>\n",
       "      <td>4.9</td>\n",
       "    </tr>\n",
       "    <tr>\n",
       "      <th>248</th>\n",
       "      <td>Tokopedia NYAM!Seblak Instan Komplit Pedas Gur...</td>\n",
       "      <td>Rp5.999</td>\n",
       "      <td>Baso Aci Ayang</td>\n",
       "      <td>Kab. Garut</td>\n",
       "      <td>Terjual 2 rb+</td>\n",
       "      <td>4.9</td>\n",
       "    </tr>\n",
       "    <tr>\n",
       "      <th>249</th>\n",
       "      <td>SEBLAK INSTAN MAMANG TERMURAHRp4.200Jakarta Ba...</td>\n",
       "      <td>Rp4.200</td>\n",
       "      <td>global cookware1</td>\n",
       "      <td>Jakarta Barat</td>\n",
       "      <td>Terjual 80+</td>\n",
       "      <td>5.0</td>\n",
       "    </tr>\n",
       "  </tbody>\n",
       "</table>\n",
       "<p>250 rows × 6 columns</p>\n",
       "</div>"
      ],
      "text/plain": [
       "                                           Nama Produk     Harga  \\\n",
       "0    Seblak Instan Ceu Nthien Khas Bandung Rasana N...  Rp15.000   \n",
       "1    seblak instan jeletot jajanan hits bandung 1 p...   Rp4.180   \n",
       "2    Parade DiskonKylafood Seblak Original PlayRp14...  Rp14.350   \n",
       "3    seblak basreng pedas original exstra daun jeru...  Rp25.000   \n",
       "4    Termurah Kerupuk Mentah-Kerupuk Seblak-Kerupuk...   Rp6.000   \n",
       "..                                                 ...       ...   \n",
       "245  Tokopedia NYAM!SEBLAK INSTANT TERMURAHRp3.999J...   Rp3.999   \n",
       "246  Tokopedia NYAM!Seblak Instan Pedas Home MadeRp...   Rp3.500   \n",
       "247  Seblak instan yoi enak dan kenyangRp7.500Bekas...   Rp7.500   \n",
       "248  Tokopedia NYAM!Seblak Instan Komplit Pedas Gur...   Rp5.999   \n",
       "249  SEBLAK INSTAN MAMANG TERMURAHRp4.200Jakarta Ba...   Rp4.200   \n",
       "\n",
       "                            Penjual             Lokasi         Terjual  Rating  \n",
       "0          Central Seblak Nusantara  Tangerang Selatan   Terjual 1 rb+     4.9  \n",
       "1             tokomakanankalimantan      Jakarta Barat   Terjual 1 rb+     4.8  \n",
       "2                          kylafood            Bandung    Terjual 750+     5.0  \n",
       "3                  seblak bandung99       Kab. Bandung   Terjual 2 rb+     4.8  \n",
       "4                  Djuragan Kerupuk           Surabaya     Terjual 50+     5.0  \n",
       "..                              ...                ...             ...     ...  \n",
       "245  Pusat Cuankie & Cemilan Frozen      Jakarta Timur  Terjual 10 rb+     4.8  \n",
       "246                      the Dhecip  Tangerang Selatan   Terjual 1 rb+     4.8  \n",
       "247                       SeblakYoi             Bekasi    Terjual 250+     4.9  \n",
       "248                  Baso Aci Ayang         Kab. Garut   Terjual 2 rb+     4.9  \n",
       "249                global cookware1      Jakarta Barat     Terjual 80+     5.0  \n",
       "\n",
       "[250 rows x 6 columns]"
      ]
     },
     "execution_count": 300,
     "metadata": {},
     "output_type": "execute_result"
    }
   ],
   "source": [
    "#menyimpan data ke csv\n",
    "df.to_csv('Web Scraping.csv',index = False)\n",
    "df"
   ]
  },
  {
   "cell_type": "markdown",
   "metadata": {},
   "source": [
    "### B. Data Preparation"
   ]
  },
  {
   "cell_type": "markdown",
   "metadata": {},
   "source": [
    "1. Melakukan explore data sederhana\n",
    "  - menampilkan beberapa baris data (menuliskan insight)\n",
    "  - menampilkan informasi dasar data (menuliskan insight dan langkah apa yang harus dilakukan selanjutnya dari insight yang saya dapatkan)\n",
    "  - melakukan pengecheckan missing value (tuliiskan insight dari hasil yang didapat)\n",
    "2. Melakukan cleaning Data\n",
    "  - Handling missing values\n",
    "  - melakukan penyesuaian isi data\n",
    "  - Changes datatypes if the datatypes are not correct\n",
    "\n",
    "Catatan: pada column Terjual, ubahlah jumlah produk terjual menjadi angka saja."
   ]
  },
  {
   "cell_type": "code",
   "execution_count": 354,
   "metadata": {},
   "outputs": [
    {
     "data": {
      "text/html": [
       "<div>\n",
       "<style scoped>\n",
       "    .dataframe tbody tr th:only-of-type {\n",
       "        vertical-align: middle;\n",
       "    }\n",
       "\n",
       "    .dataframe tbody tr th {\n",
       "        vertical-align: top;\n",
       "    }\n",
       "\n",
       "    .dataframe thead th {\n",
       "        text-align: right;\n",
       "    }\n",
       "</style>\n",
       "<table border=\"1\" class=\"dataframe\">\n",
       "  <thead>\n",
       "    <tr style=\"text-align: right;\">\n",
       "      <th></th>\n",
       "      <th>Nama Produk</th>\n",
       "      <th>Harga</th>\n",
       "      <th>Penjual</th>\n",
       "      <th>Lokasi</th>\n",
       "      <th>Terjual</th>\n",
       "      <th>Rating</th>\n",
       "    </tr>\n",
       "  </thead>\n",
       "  <tbody>\n",
       "    <tr>\n",
       "      <th>0</th>\n",
       "      <td>Seblak Instan Ceu Nthien Khas Bandung Rasana N...</td>\n",
       "      <td>Rp15.000</td>\n",
       "      <td>Central Seblak Nusantara</td>\n",
       "      <td>Tangerang Selatan</td>\n",
       "      <td>Terjual 1 rb+</td>\n",
       "      <td>4.9</td>\n",
       "    </tr>\n",
       "    <tr>\n",
       "      <th>1</th>\n",
       "      <td>seblak instan jeletot jajanan hits bandung 1 p...</td>\n",
       "      <td>Rp4.180</td>\n",
       "      <td>tokomakanankalimantan</td>\n",
       "      <td>Jakarta Barat</td>\n",
       "      <td>Terjual 1 rb+</td>\n",
       "      <td>4.8</td>\n",
       "    </tr>\n",
       "    <tr>\n",
       "      <th>2</th>\n",
       "      <td>Parade DiskonKylafood Seblak Original PlayRp14...</td>\n",
       "      <td>Rp14.350</td>\n",
       "      <td>kylafood</td>\n",
       "      <td>Bandung</td>\n",
       "      <td>Terjual 750+</td>\n",
       "      <td>5.0</td>\n",
       "    </tr>\n",
       "    <tr>\n",
       "      <th>3</th>\n",
       "      <td>seblak basreng pedas original exstra daun jeru...</td>\n",
       "      <td>Rp25.000</td>\n",
       "      <td>seblak bandung99</td>\n",
       "      <td>Kab. Bandung</td>\n",
       "      <td>Terjual 2 rb+</td>\n",
       "      <td>4.8</td>\n",
       "    </tr>\n",
       "    <tr>\n",
       "      <th>4</th>\n",
       "      <td>Termurah Kerupuk Mentah-Kerupuk Seblak-Kerupuk...</td>\n",
       "      <td>Rp6.000</td>\n",
       "      <td>Djuragan Kerupuk</td>\n",
       "      <td>Surabaya</td>\n",
       "      <td>Terjual 50+</td>\n",
       "      <td>5.0</td>\n",
       "    </tr>\n",
       "    <tr>\n",
       "      <th>...</th>\n",
       "      <td>...</td>\n",
       "      <td>...</td>\n",
       "      <td>...</td>\n",
       "      <td>...</td>\n",
       "      <td>...</td>\n",
       "      <td>...</td>\n",
       "    </tr>\n",
       "    <tr>\n",
       "      <th>245</th>\n",
       "      <td>Tokopedia NYAM!SEBLAK INSTANT TERMURAHRp3.999J...</td>\n",
       "      <td>Rp3.999</td>\n",
       "      <td>Pusat Cuankie &amp; Cemilan Frozen</td>\n",
       "      <td>Jakarta Timur</td>\n",
       "      <td>Terjual 10 rb+</td>\n",
       "      <td>4.8</td>\n",
       "    </tr>\n",
       "    <tr>\n",
       "      <th>246</th>\n",
       "      <td>Tokopedia NYAM!Seblak Instan Pedas Home MadeRp...</td>\n",
       "      <td>Rp3.500</td>\n",
       "      <td>the Dhecip</td>\n",
       "      <td>Tangerang Selatan</td>\n",
       "      <td>Terjual 1 rb+</td>\n",
       "      <td>4.8</td>\n",
       "    </tr>\n",
       "    <tr>\n",
       "      <th>247</th>\n",
       "      <td>Seblak instan yoi enak dan kenyangRp7.500Bekas...</td>\n",
       "      <td>Rp7.500</td>\n",
       "      <td>SeblakYoi</td>\n",
       "      <td>Bekasi</td>\n",
       "      <td>Terjual 250+</td>\n",
       "      <td>4.9</td>\n",
       "    </tr>\n",
       "    <tr>\n",
       "      <th>248</th>\n",
       "      <td>Tokopedia NYAM!Seblak Instan Komplit Pedas Gur...</td>\n",
       "      <td>Rp5.999</td>\n",
       "      <td>Baso Aci Ayang</td>\n",
       "      <td>Kab. Garut</td>\n",
       "      <td>Terjual 2 rb+</td>\n",
       "      <td>4.9</td>\n",
       "    </tr>\n",
       "    <tr>\n",
       "      <th>249</th>\n",
       "      <td>SEBLAK INSTAN MAMANG TERMURAHRp4.200Jakarta Ba...</td>\n",
       "      <td>Rp4.200</td>\n",
       "      <td>global cookware1</td>\n",
       "      <td>Jakarta Barat</td>\n",
       "      <td>Terjual 80+</td>\n",
       "      <td>5.0</td>\n",
       "    </tr>\n",
       "  </tbody>\n",
       "</table>\n",
       "<p>250 rows × 6 columns</p>\n",
       "</div>"
      ],
      "text/plain": [
       "                                           Nama Produk     Harga  \\\n",
       "0    Seblak Instan Ceu Nthien Khas Bandung Rasana N...  Rp15.000   \n",
       "1    seblak instan jeletot jajanan hits bandung 1 p...   Rp4.180   \n",
       "2    Parade DiskonKylafood Seblak Original PlayRp14...  Rp14.350   \n",
       "3    seblak basreng pedas original exstra daun jeru...  Rp25.000   \n",
       "4    Termurah Kerupuk Mentah-Kerupuk Seblak-Kerupuk...   Rp6.000   \n",
       "..                                                 ...       ...   \n",
       "245  Tokopedia NYAM!SEBLAK INSTANT TERMURAHRp3.999J...   Rp3.999   \n",
       "246  Tokopedia NYAM!Seblak Instan Pedas Home MadeRp...   Rp3.500   \n",
       "247  Seblak instan yoi enak dan kenyangRp7.500Bekas...   Rp7.500   \n",
       "248  Tokopedia NYAM!Seblak Instan Komplit Pedas Gur...   Rp5.999   \n",
       "249  SEBLAK INSTAN MAMANG TERMURAHRp4.200Jakarta Ba...   Rp4.200   \n",
       "\n",
       "                            Penjual             Lokasi         Terjual  Rating  \n",
       "0          Central Seblak Nusantara  Tangerang Selatan   Terjual 1 rb+     4.9  \n",
       "1             tokomakanankalimantan      Jakarta Barat   Terjual 1 rb+     4.8  \n",
       "2                          kylafood            Bandung    Terjual 750+     5.0  \n",
       "3                  seblak bandung99       Kab. Bandung   Terjual 2 rb+     4.8  \n",
       "4                  Djuragan Kerupuk           Surabaya     Terjual 50+     5.0  \n",
       "..                              ...                ...             ...     ...  \n",
       "245  Pusat Cuankie & Cemilan Frozen      Jakarta Timur  Terjual 10 rb+     4.8  \n",
       "246                      the Dhecip  Tangerang Selatan   Terjual 1 rb+     4.8  \n",
       "247                       SeblakYoi             Bekasi    Terjual 250+     4.9  \n",
       "248                  Baso Aci Ayang         Kab. Garut   Terjual 2 rb+     4.9  \n",
       "249                global cookware1      Jakarta Barat     Terjual 80+     5.0  \n",
       "\n",
       "[250 rows x 6 columns]"
      ]
     },
     "execution_count": 354,
     "metadata": {},
     "output_type": "execute_result"
    }
   ],
   "source": [
    "#Lakukan read CSV agar bisa mengolah data\n",
    "df = pd.read_csv('Web Scraping.csv')\n",
    "df"
   ]
  },
  {
   "cell_type": "code",
   "execution_count": 355,
   "metadata": {},
   "outputs": [
    {
     "name": "stdout",
     "output_type": "stream",
     "text": [
      "<class 'pandas.core.frame.DataFrame'>\n",
      "RangeIndex: 250 entries, 0 to 249\n",
      "Data columns (total 6 columns):\n",
      " #   Column       Non-Null Count  Dtype  \n",
      "---  ------       --------------  -----  \n",
      " 0   Nama Produk  250 non-null    object \n",
      " 1   Harga        250 non-null    object \n",
      " 2   Penjual      250 non-null    object \n",
      " 3   Lokasi       250 non-null    object \n",
      " 4   Terjual      239 non-null    object \n",
      " 5   Rating       238 non-null    float64\n",
      "dtypes: float64(1), object(5)\n",
      "memory usage: 11.8+ KB\n"
     ]
    }
   ],
   "source": [
    "df.info()\n",
    "#untuk mengetahui informasi dasar data"
   ]
  },
  {
   "cell_type": "markdown",
   "metadata": {},
   "source": [
    "Dari menampilkan informasi diketahui jika datatype tidak sesuai untuk column Harga, dan Terjual. Lalu adanya missing Value pada column Terjual dan Rating.\n",
    "\n",
    "Setelah mengetahui adanya type data yang tidak sesuai, missing value langkah yang kita harus lakukan adalah melakukan filling missing value dan melakukan perubahan dalam dtype.\n",
    "\n",
    "Tetapi dalam column Harga dan terjual adanya string atau karakter tertentu yang menyembabkan tidak bisanya mengubah tipe data. \n",
    "\n",
    "Maka dari itu hal pertama yang haris dilakukan adalah mengubah isi data(mereplace string/karakter yang tidak diperlukan)"
   ]
  },
  {
   "cell_type": "code",
   "execution_count": 356,
   "metadata": {},
   "outputs": [],
   "source": [
    "df['Rating'].fillna(0, inplace=True) \n",
    "# menghandle Missing value dengan mengisi menjadi angka 0"
   ]
  },
  {
   "cell_type": "code",
   "execution_count": 357,
   "metadata": {},
   "outputs": [],
   "source": [
    "df['Terjual'].fillna(0, inplace=True)\n",
    "# menghandle Missing value dengan mengisi menjadi angka 0"
   ]
  },
  {
   "cell_type": "code",
   "execution_count": 358,
   "metadata": {},
   "outputs": [
    {
     "name": "stdout",
     "output_type": "stream",
     "text": [
      "<class 'pandas.core.frame.DataFrame'>\n",
      "RangeIndex: 250 entries, 0 to 249\n",
      "Data columns (total 6 columns):\n",
      " #   Column       Non-Null Count  Dtype  \n",
      "---  ------       --------------  -----  \n",
      " 0   Nama Produk  250 non-null    object \n",
      " 1   Harga        250 non-null    object \n",
      " 2   Penjual      250 non-null    object \n",
      " 3   Lokasi       250 non-null    object \n",
      " 4   Terjual      250 non-null    object \n",
      " 5   Rating       250 non-null    float64\n",
      "dtypes: float64(1), object(5)\n",
      "memory usage: 11.8+ KB\n"
     ]
    }
   ],
   "source": [
    "df.info()"
   ]
  },
  {
   "cell_type": "markdown",
   "metadata": {},
   "source": [
    "Setelah filling missing value , maka tidak ada lagi missing value pada data"
   ]
  },
  {
   "cell_type": "code",
   "execution_count": 361,
   "metadata": {},
   "outputs": [],
   "source": [
    "#fuction untuk mereplace +\n",
    "def converter(val):\n",
    "    val = str(val)\n",
    "    val = val.replace('+', '')\n",
    "    return val\n",
    "\n",
    "df['Terjual'] = df['Terjual'].apply(converter)"
   ]
  },
  {
   "cell_type": "code",
   "execution_count": 362,
   "metadata": {},
   "outputs": [],
   "source": [
    "#melakukan replace agar bisa mengubah tipe data\n",
    "df['Terjual'] = df['Terjual'].str.replace('Terjual ', '', regex=True)\n",
    "df['Terjual'] = df['Terjual'].str.replace('rb', '000', regex=True)\n",
    "df['Terjual'] = df['Terjual'].str.replace(' ', '', regex=True)"
   ]
  },
  {
   "cell_type": "markdown",
   "metadata": {},
   "source": [
    "Setelah mereplace string/karakter, langkah selanjutnya adalah mengubah tipe data pada column Terjual menjadi data yang sesuai, integer."
   ]
  },
  {
   "cell_type": "code",
   "execution_count": 363,
   "metadata": {},
   "outputs": [
    {
     "data": {
      "text/plain": [
       "Nama Produk     object\n",
       "Harga           object\n",
       "Penjual         object\n",
       "Lokasi          object\n",
       "Terjual          int32\n",
       "Rating         float64\n",
       "dtype: object"
      ]
     },
     "execution_count": 363,
     "metadata": {},
     "output_type": "execute_result"
    }
   ],
   "source": [
    "df['Terjual'] = df['Terjual'].astype(int)\n",
    "df.dtypes"
   ]
  },
  {
   "cell_type": "code",
   "execution_count": 365,
   "metadata": {},
   "outputs": [],
   "source": [
    "#melakukan replace agar bisa mengubah tipe data\n",
    "f['Harga'] = df['Harga'].str.replace('Rp', '',regex=True)"
   ]
  },
  {
   "cell_type": "code",
   "execution_count": 367,
   "metadata": {},
   "outputs": [],
   "source": [
    "#fuction untuk mereplace .\n",
    "def converter(value):\n",
    "    value = str(value)\n",
    "    value = value.replace('.', '')\n",
    "    return value\n",
    "\n",
    "df['Harga'] = df['Harga'].apply(converter)"
   ]
  },
  {
   "cell_type": "markdown",
   "metadata": {},
   "source": [
    "Setelah mereplace string/karakter, langkah selanjutnya adalah mengubah tipe data pada column Harga menjadi data yang sesuai, integer."
   ]
  },
  {
   "cell_type": "code",
   "execution_count": 370,
   "metadata": {},
   "outputs": [
    {
     "data": {
      "text/plain": [
       "Nama Produk     object\n",
       "Harga            int32\n",
       "Penjual         object\n",
       "Lokasi          object\n",
       "Terjual          int32\n",
       "Rating         float64\n",
       "dtype: object"
      ]
     },
     "execution_count": 370,
     "metadata": {},
     "output_type": "execute_result"
    }
   ],
   "source": [
    "df['Harga'] = df['Harga'].astype(int)\n",
    "df.dtypes"
   ]
  },
  {
   "cell_type": "markdown",
   "metadata": {},
   "source": [
    "### C. Business Understanding"
   ]
  },
  {
   "cell_type": "markdown",
   "metadata": {},
   "source": [
    "Disini saya akan membuat problem statement dengan menggunakan SMART framework dalam satu kalimat"
   ]
  },
  {
   "cell_type": "markdown",
   "metadata": {},
   "source": [
    "Permasalahan:\n",
    "  - ingin menambah penghasilan tambahan\n",
    "  - menjadi dropshiper\n",
    "\n",
    "Strategi\n",
    "  - melakukan analisa harga produk, peminat\n",
    "\n",
    "\n",
    "SMART FrameWork\n",
    "\n",
    "S = menambah penghasilan dengan menjadi dropshiper makanan seblak\n",
    "\n",
    "M = menambah penghasilan tambahan dari 20% ke 50%\n",
    "\n",
    "A = berdasarkan proses perencanaan yang baik dengan melakukan analisa harga dan minat terlebih dahulu, untuk mencapai target menambah penghasilan menjadi 50% bisa tercapai\n",
    "\n",
    "R = dari hasil proses yang dilalui, saya bisa mengetahui untuk melanjutkan dalam meningkatkan penghasilan dengan menjual seblak atau tidak \n",
    "\n",
    "T = target pencapaian untuk menambah penghasilan menjadi 50% dengan menjual seblak dalam kurun waktu 3 bulan dengan ketentuan waktu dalam setiap proses"
   ]
  },
  {
   "cell_type": "markdown",
   "metadata": {},
   "source": [
    "### D. Analysis"
   ]
  },
  {
   "cell_type": "markdown",
   "metadata": {},
   "source": [
    "Untuk melakukan analisis agar tujuan tercapai, saya bisa melakukan perhitungan median dan mean, menghitung pendapatan, perbandingan harga bahan baku dan pengujian korelasi data \n",
    "\n",
    "Langkah pertama saya harus menghitung rata rata dan median dari data harga, bannyaknya produk terjual dan rating yang \n",
    "\n",
    "Lalu, langkah selanjutnya adalah melakukan pemikiran potensi pendapatan dalam menjual seblak perbulan menggunakan confidence interval\n",
    "\n",
    "Setelah mengetahui potensi pendapatan, lakukan perbandingan harga bahan baku untuk diluar wilayah jabodetabek dan diluar jabodetabek karena beda lokasi, maka kemungkinan biayanya juag berbeda. disini saya menggunakan uji hipotesis\n",
    "\n",
    "Dan yang terakhir melihat korelasi apakah peminat yang menyukai seblak dengan harga murah lebih banyak"
   ]
  },
  {
   "cell_type": "markdown",
   "metadata": {},
   "source": [
    "#### Menghitung Mean, Median, standar deviasi, skewness, kurtosis"
   ]
  },
  {
   "cell_type": "code",
   "execution_count": 371,
   "metadata": {},
   "outputs": [
    {
     "name": "stdout",
     "output_type": "stream",
     "text": [
      "Mean : 14939.688\n",
      "Median : 12000.0\n",
      "Standard Deviasi: 13275.009755124498\n",
      "Skewness: 2.3923725242646285\n",
      "Kurtosis: 7.104994886896586\n"
     ]
    }
   ],
   "source": [
    "#kolom Harga\n",
    "print('Mean :',df['Harga'].mean())\n",
    "print('Median :',df['Harga'].median())\n",
    "#standar deviasi\n",
    "std = df['Harga'].std()\n",
    "print('Standard Deviasi:',std)\n",
    "#skewness\n",
    "print(f\"Skewness: {df['Harga'].skew()}\")\n",
    "#Kurtosis\n",
    "print(f\"Kurtosis: {df['Harga'].kurtosis()}\")"
   ]
  },
  {
   "cell_type": "markdown",
   "metadata": {},
   "source": [
    "Diketahui dari hasil melakukan perhitungan rata rata, harga berkisar 14rb dan median berkisar 12rb.\n",
    "\n",
    "Dalam Perhitungan standar deviasi, skewness dan kurtosis pada kolom `harga` diketahui bahwa data memiliki banyak outlier "
   ]
  },
  {
   "cell_type": "code",
   "execution_count": 372,
   "metadata": {},
   "outputs": [
    {
     "name": "stdout",
     "output_type": "stream",
     "text": [
      "Mean : 1171.472\n",
      "Median : 250.0\n",
      "Standard Deviasi: 2611.4567203046076\n",
      "Skewness: 2.9558156600121697\n",
      "Kurtosis: 7.242267149864215\n"
     ]
    }
   ],
   "source": [
    "#kolom Terjual\n",
    "print('Mean :',df['Terjual'].mean())\n",
    "print('Median :',df['Terjual'].median())\n",
    "#standar deviasi\n",
    "std = df['Terjual'].std()\n",
    "print('Standard Deviasi:',std)\n",
    "#skewness\n",
    "print(f\"Skewness: {df['Terjual'].skew()}\")\n",
    "#Kurtosis\n",
    "print(f\"Kurtosis: {df['Terjual'].kurtosis()}\")"
   ]
  },
  {
   "cell_type": "markdown",
   "metadata": {},
   "source": [
    "Diketahui dari hasil melakukan perhitungan rata rata, banyaknya Terjualnya suatu produk berkisar 1100 dan median berkisar 250.\n",
    "\n",
    "Dalam Perhitungan standar deviasi, skewness dan kurtosis pada kolom `Terjual` diketahui bahwa data memiliki banyak outlier "
   ]
  },
  {
   "cell_type": "code",
   "execution_count": 373,
   "metadata": {},
   "outputs": [
    {
     "name": "stdout",
     "output_type": "stream",
     "text": [
      "Mean : 4.6316\n",
      "Median : 4.9\n",
      "Standard Deviasi: 1.0500341551147898\n",
      "Skewness: -4.15806925753791\n",
      "Kurtosis: 15.66185834247862\n"
     ]
    }
   ],
   "source": [
    "#kolom Rating\n",
    "print('Mean :',df['Rating'].mean())\n",
    "print('Median :',df['Rating'].median())\n",
    "#standar deviasi\n",
    "std = df['Rating'].std()\n",
    "print('Standard Deviasi:',std)\n",
    "#skewness\n",
    "print(f\"Skewness: {df['Rating'].skew()}\")\n",
    "#Kurtosis\n",
    "print(f\"Kurtosis: {df['Rating'].kurtosis()}\")"
   ]
  },
  {
   "cell_type": "markdown",
   "metadata": {},
   "source": [
    "Diketahui dari hasil melakukan perhitungan rata rata, rating dari suatu produk berkisar 4,6 dari 5 dan median berkisar 4.9.\n",
    "\n",
    "Dalam Perhitungan standar deviasi, skewness dan kurtosis pada kolom `Rating` diketahui bahwa data normal tetapi banyak outlier juga"
   ]
  },
  {
   "cell_type": "markdown",
   "metadata": {},
   "source": [
    "#### Perhitungan minimum dam maximum by convidence interval"
   ]
  },
  {
   "cell_type": "code",
   "execution_count": 384,
   "metadata": {},
   "outputs": [
    {
     "name": "stdout",
     "output_type": "stream",
     "text": [
      "Lower Limit: 847.7584195353681\n",
      "Upper Limit: 1495.1855804646318\n"
     ]
    }
   ],
   "source": [
    "#melakukan perhitungan Min dan Max\n",
    "std = df['Terjual'].std()\n",
    "N = len(df)\n",
    "low, up = stats.norm.interval(0.95,loc=df['Terjual'].mean(),scale=std/np.sqrt(N))\n",
    "print('Lower Limit:',low)\n",
    "print('Upper Limit:',up)\n"
   ]
  },
  {
   "cell_type": "code",
   "execution_count": 387,
   "metadata": {},
   "outputs": [
    {
     "name": "stdout",
     "output_type": "stream",
     "text": [
      "Max Keuntungan:  22337606.074240495\n",
      "Min Keuntungan:  12665246.287231505\n"
     ]
    }
   ],
   "source": [
    "harga=df['Harga'].mean()\n",
    "Max_Keuntungan = harga*up\n",
    "print('Max Keuntungan: ', Max_Keuntungan)\n",
    "\n",
    "Min_Keuntungan = harga*low\n",
    "print('Min Keuntungan: ', Min_Keuntungan)"
   ]
  },
  {
   "cell_type": "markdown",
   "metadata": {},
   "source": [
    "Potensi keunntungan dalam penjualan maximum bisa mencapai 22juta rupiah dan minimum mencapai 12juta rupiah dalam sebualn menjual seblak"
   ]
  },
  {
   "cell_type": "markdown",
   "metadata": {},
   "source": [
    "#### Hipothesis test"
   ]
  },
  {
   "cell_type": "markdown",
   "metadata": {},
   "source": [
    "Sebelum melakukan hipotesis, saya akan melakukan perbandingan harga barang antara daerah Jabodetabek dan di luar Jabodetabek. Pertama-tama lakukan pengecekan nama lokasi yang berada di wilayah jabodetabek dalam column Lokasi dengan menampilkan unique colomn tersebut"
   ]
  },
  {
   "cell_type": "code",
   "execution_count": 409,
   "metadata": {},
   "outputs": [
    {
     "data": {
      "text/plain": [
       "array(['Tangerang Selatan', 'Jakarta Barat', 'Bandung', 'Kab. Bandung',\n",
       "       'Surabaya', 'Jakarta Pusat', 'Jakarta Timur', 'Magelang',\n",
       "       'Kab. Garut', 'Jakarta Selatan', 'Tangerang', 'Kab. Tangerang',\n",
       "       'Bekasi', 'Kab. Bogor', 'Kab. Bekasi', 'Jakarta Utara', 'Cimahi',\n",
       "       'Depok', 'Makassar', 'Kab. Majalengka', 'Kab.Ciamis', 'Batam',\n",
       "       'Kab. Tasikmalaya', 'Denpasar', 'Malang', 'Tasikmalaya',\n",
       "       'Kab. Mojokerto'], dtype=object)"
      ]
     },
     "execution_count": 409,
     "metadata": {},
     "output_type": "execute_result"
    }
   ],
   "source": [
    "df['Lokasi'].unique()"
   ]
  },
  {
   "cell_type": "markdown",
   "metadata": {},
   "source": [
    "Lalu lakukan list untuk wilayah jabodetabek dan non jabodetabek"
   ]
  },
  {
   "cell_type": "code",
   "execution_count": 407,
   "metadata": {},
   "outputs": [
    {
     "data": {
      "text/html": [
       "<div>\n",
       "<style scoped>\n",
       "    .dataframe tbody tr th:only-of-type {\n",
       "        vertical-align: middle;\n",
       "    }\n",
       "\n",
       "    .dataframe tbody tr th {\n",
       "        vertical-align: top;\n",
       "    }\n",
       "\n",
       "    .dataframe thead th {\n",
       "        text-align: right;\n",
       "    }\n",
       "</style>\n",
       "<table border=\"1\" class=\"dataframe\">\n",
       "  <thead>\n",
       "    <tr style=\"text-align: right;\">\n",
       "      <th></th>\n",
       "      <th>Nama Produk</th>\n",
       "      <th>Harga</th>\n",
       "      <th>Penjual</th>\n",
       "      <th>Lokasi</th>\n",
       "      <th>Terjual</th>\n",
       "      <th>Rating</th>\n",
       "    </tr>\n",
       "  </thead>\n",
       "  <tbody>\n",
       "    <tr>\n",
       "      <th>2</th>\n",
       "      <td>Parade DiskonKylafood Seblak Original PlayRp14...</td>\n",
       "      <td>14350</td>\n",
       "      <td>kylafood</td>\n",
       "      <td>Bandung</td>\n",
       "      <td>750</td>\n",
       "      <td>5.0</td>\n",
       "    </tr>\n",
       "    <tr>\n",
       "      <th>3</th>\n",
       "      <td>seblak basreng pedas original exstra daun jeru...</td>\n",
       "      <td>25000</td>\n",
       "      <td>seblak bandung99</td>\n",
       "      <td>Kab. Bandung</td>\n",
       "      <td>2000</td>\n",
       "      <td>4.8</td>\n",
       "    </tr>\n",
       "    <tr>\n",
       "      <th>4</th>\n",
       "      <td>Termurah Kerupuk Mentah-Kerupuk Seblak-Kerupuk...</td>\n",
       "      <td>6000</td>\n",
       "      <td>Djuragan Kerupuk</td>\n",
       "      <td>Surabaya</td>\n",
       "      <td>50</td>\n",
       "      <td>5.0</td>\n",
       "    </tr>\n",
       "    <tr>\n",
       "      <th>8</th>\n",
       "      <td>KERUPUK MENTAH SERBA 5000 BAHAN SEBLAKRp6.000K...</td>\n",
       "      <td>6000</td>\n",
       "      <td>GK_Snack</td>\n",
       "      <td>Kab. Bandung</td>\n",
       "      <td>500</td>\n",
       "      <td>5.0</td>\n",
       "    </tr>\n",
       "    <tr>\n",
       "      <th>25</th>\n",
       "      <td>Kerupuk Putih Ori 5 Kg (BALL) Kerupuk Seblak /...</td>\n",
       "      <td>75000</td>\n",
       "      <td>Distributor Topping Baso Aci</td>\n",
       "      <td>Bandung</td>\n",
       "      <td>0</td>\n",
       "      <td>0.0</td>\n",
       "    </tr>\n",
       "    <tr>\n",
       "      <th>...</th>\n",
       "      <td>...</td>\n",
       "      <td>...</td>\n",
       "      <td>...</td>\n",
       "      <td>...</td>\n",
       "      <td>...</td>\n",
       "      <td>...</td>\n",
       "    </tr>\n",
       "    <tr>\n",
       "      <th>232</th>\n",
       "      <td>SEBLAK INSTAN ORI/SEBLAK INSTAN KERUPUK/SEBLAK...</td>\n",
       "      <td>3899</td>\n",
       "      <td>dakar_ofc</td>\n",
       "      <td>Kab. Mojokerto</td>\n",
       "      <td>70</td>\n",
       "      <td>5.0</td>\n",
       "    </tr>\n",
       "    <tr>\n",
       "      <th>233</th>\n",
       "      <td>GRATIS ONGKIR SEBLAK INSTAN/SEBLAK BANDUNG/SEB...</td>\n",
       "      <td>3999</td>\n",
       "      <td>MarkCi .id</td>\n",
       "      <td>Kab. Garut</td>\n",
       "      <td>100</td>\n",
       "      <td>4.3</td>\n",
       "    </tr>\n",
       "    <tr>\n",
       "      <th>234</th>\n",
       "      <td>Seblak umi 400gr super pedasRp31.000Cashback 2...</td>\n",
       "      <td>31000</td>\n",
       "      <td>seblakumiofficial</td>\n",
       "      <td>Bandung</td>\n",
       "      <td>26</td>\n",
       "      <td>5.0</td>\n",
       "    </tr>\n",
       "    <tr>\n",
       "      <th>243</th>\n",
       "      <td>GURILEM MINI 1KG Siomay Kering Toping Baso Aci...</td>\n",
       "      <td>29999</td>\n",
       "      <td>Pedas Gilaa</td>\n",
       "      <td>Surabaya</td>\n",
       "      <td>500</td>\n",
       "      <td>4.9</td>\n",
       "    </tr>\n",
       "    <tr>\n",
       "      <th>248</th>\n",
       "      <td>Tokopedia NYAM!Seblak Instan Komplit Pedas Gur...</td>\n",
       "      <td>5999</td>\n",
       "      <td>Baso Aci Ayang</td>\n",
       "      <td>Kab. Garut</td>\n",
       "      <td>2000</td>\n",
       "      <td>4.9</td>\n",
       "    </tr>\n",
       "  </tbody>\n",
       "</table>\n",
       "<p>69 rows × 6 columns</p>\n",
       "</div>"
      ],
      "text/plain": [
       "                                           Nama Produk  Harga  \\\n",
       "2    Parade DiskonKylafood Seblak Original PlayRp14...  14350   \n",
       "3    seblak basreng pedas original exstra daun jeru...  25000   \n",
       "4    Termurah Kerupuk Mentah-Kerupuk Seblak-Kerupuk...   6000   \n",
       "8    KERUPUK MENTAH SERBA 5000 BAHAN SEBLAKRp6.000K...   6000   \n",
       "25   Kerupuk Putih Ori 5 Kg (BALL) Kerupuk Seblak /...  75000   \n",
       "..                                                 ...    ...   \n",
       "232  SEBLAK INSTAN ORI/SEBLAK INSTAN KERUPUK/SEBLAK...   3899   \n",
       "233  GRATIS ONGKIR SEBLAK INSTAN/SEBLAK BANDUNG/SEB...   3999   \n",
       "234  Seblak umi 400gr super pedasRp31.000Cashback 2...  31000   \n",
       "243  GURILEM MINI 1KG Siomay Kering Toping Baso Aci...  29999   \n",
       "248  Tokopedia NYAM!Seblak Instan Komplit Pedas Gur...   5999   \n",
       "\n",
       "                          Penjual          Lokasi  Terjual  Rating  \n",
       "2                        kylafood         Bandung      750     5.0  \n",
       "3                seblak bandung99    Kab. Bandung     2000     4.8  \n",
       "4                Djuragan Kerupuk        Surabaya       50     5.0  \n",
       "8                        GK_Snack    Kab. Bandung      500     5.0  \n",
       "25   Distributor Topping Baso Aci         Bandung        0     0.0  \n",
       "..                            ...             ...      ...     ...  \n",
       "232                     dakar_ofc  Kab. Mojokerto       70     5.0  \n",
       "233                    MarkCi .id      Kab. Garut      100     4.3  \n",
       "234             seblakumiofficial         Bandung       26     5.0  \n",
       "243                   Pedas Gilaa        Surabaya      500     4.9  \n",
       "248                Baso Aci Ayang      Kab. Garut     2000     4.9  \n",
       "\n",
       "[69 rows x 6 columns]"
      ]
     },
     "execution_count": 407,
     "metadata": {},
     "output_type": "execute_result"
    }
   ],
   "source": [
    "jabodetabek_list = ['Tangerang Selatan', 'Jakarta Barat',\n",
    "       'Jakarta Pusat', 'Jakarta Timur',  'Jakarta Selatan', 'Tangerang', 'Kab. Tangerang',\n",
    "       'Bekasi', 'Kab. Bogor', 'Kab. Bekasi', 'Jakarta Utara',\n",
    "       'Depok']\n",
    "       \n",
    "jabodetabek = df[df['Lokasi'].isin(jabodetabek_list)]\n",
    "nonJabodetabek = df[~df['Lokasi'].isin(jabodetabek_list)]\n",
    "nonJabodetabek"
   ]
  },
  {
   "cell_type": "markdown",
   "metadata": {},
   "source": [
    "Setelah itu lakukan Hitopetsis perbedaan harga di daerah jabodetabek dan diluar jabodetabek\n",
    "\n",
    "Disini saya melakukan Hipotesis menggunakan tipe two sample independent test dikarenakan adanya dua wilayah yang ingin diketahui perkiraan dari harga bahan baku"
   ]
  },
  {
   "cell_type": "code",
   "execution_count": 408,
   "metadata": {},
   "outputs": [
    {
     "name": "stdout",
     "output_type": "stream",
     "text": [
      "T-Statistic: -3.0445209628745937\n",
      "P-value: 0.002581636029189141\n"
     ]
    }
   ],
   "source": [
    "t_stat, p_val = stats.ttest_ind(jabodetabek['Harga'],nonJabodetabek['Harga'])\n",
    "print('T-Statistic:',t_stat)\n",
    "print('P-value:',p_val) "
   ]
  },
  {
   "cell_type": "markdown",
   "metadata": {},
   "source": [
    "#### Correlation Analysis test"
   ]
  },
  {
   "cell_type": "code",
   "execution_count": 397,
   "metadata": {},
   "outputs": [
    {
     "name": "stdout",
     "output_type": "stream",
     "text": [
      "Spearman correlation: 0.12, p-value: 0.06775764549908879\n"
     ]
    }
   ],
   "source": [
    "#korelasi spearman\n",
    "corr_rho, pval_s = stats.spearmanr(df['Harga'], df['Rating'])\n",
    "print(f\"Spearman correlation: {corr_rho:.2f}, p-value: {pval_s}\")"
   ]
  },
  {
   "cell_type": "markdown",
   "metadata": {},
   "source": [
    "### E. Conclusion"
   ]
  },
  {
   "cell_type": "markdown",
   "metadata": {},
   "source": [
    "Kesimpulan dari menganalisis data bisa diketahui:\n",
    "  - Jika rata rata harga adalah sekitar Rp. 14.000,- dengan sekitar 1.000 produk yang terjual dengan rating 4.6\n",
    "  - Median harga sekitar Rp. 12.000,- dengan terjualnya produk sekitar 250 dengan rating 4.9\n",
    "  - Dalam test normalitas skewness dan kurtosis diketahui jika data tidak normal normal dan memiliki banyak outlier\n",
    "  - Dalam menganalisa potensi keuntungan minimum dam maximum dalam penjualan seblak selama satu bulan cukup tinggi dengan kata lain bisa menghasilkan pendapatan tambahan dalam penjualan ini\n",
    "  - Dapat disimpulkan jika harga bahan baku di wilayah Jabodetabek sangat berbeda dengan di luar jabodetabek menggunakan two sample independent test\n",
    "  - Dalam data yang saya olah, saya menggunakan library spicy untuk menganalisis korelasi dan p-value menggunakan teknik spearman yang mana hasil menunjukkan jika korelasi antara cenderungnya orang suka dengan harga yang murah.\n"
   ]
  }
 ],
 "metadata": {
  "kernelspec": {
   "display_name": "base",
   "language": "python",
   "name": "python3"
  },
  "language_info": {
   "codemirror_mode": {
    "name": "ipython",
    "version": 3
   },
   "file_extension": ".py",
   "mimetype": "text/x-python",
   "name": "python",
   "nbconvert_exporter": "python",
   "pygments_lexer": "ipython3",
   "version": "3.9.17"
  },
  "orig_nbformat": 4
 },
 "nbformat": 4,
 "nbformat_minor": 2
}
